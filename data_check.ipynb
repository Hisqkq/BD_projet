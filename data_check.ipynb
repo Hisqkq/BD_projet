{
 "cells": [
  {
   "cell_type": "code",
   "execution_count": 2,
   "metadata": {},
   "outputs": [],
   "source": [
    "import pandas as pd"
   ]
  },
  {
   "cell_type": "code",
   "execution_count": 13,
   "metadata": {},
   "outputs": [
    {
     "name": "stdout",
     "output_type": "stream",
     "text": [
      "  TYPECOM    COM   REG DEP CTCD  ARR  TNCC                    NCC   \n",
      "0     COM  01001  84.0  01  01D  012     5  ABERGEMENT CLEMENCIAT  \\\n",
      "1     COM  01002  84.0  01  01D  011     5    ABERGEMENT DE VAREY   \n",
      "2     COM  01004  84.0  01  01D  011     1      AMBERIEU EN BUGEY   \n",
      "3     COM  01005  84.0  01  01D  012     1    AMBERIEUX EN DOMBES   \n",
      "4     COM  01006  84.0  01  01D  011     1                AMBLEON   \n",
      "\n",
      "                  NCCENR                  LIBELLE   CAN  COMPARENT  \n",
      "0  Abergement-Clémenciat  L'Abergement-Clémenciat  0108        NaN  \n",
      "1    Abergement-de-Varey    L'Abergement-de-Varey  0101        NaN  \n",
      "2      Ambérieu-en-Bugey        Ambérieu-en-Bugey  0101        NaN  \n",
      "3    Ambérieux-en-Dombes      Ambérieux-en-Dombes  0122        NaN  \n",
      "4                Ambléon                  Ambléon  0104        NaN  \n"
     ]
    }
   ],
   "source": [
    "communes = pd.read_csv('data/CDR/v_commune_2023.csv', sep=',')\n",
    "print(communes.head())"
   ]
  },
  {
   "cell_type": "markdown",
   "metadata": {},
   "source": [
    "Modele Table Commune:\n",
    "- idCommune char(5) PRIMARY KEY\n",
    "- nomCommune varchar(45) \n",
    "- idDepartement varchar(3) REFERENCES DEPARTEMENT(idDepartement)"
   ]
  },
  {
   "cell_type": "code",
   "execution_count": 9,
   "metadata": {},
   "outputs": [
    {
     "name": "stdout",
     "output_type": "stream",
     "text": [
      "  DEP  REG CHEFLIEU  TNCC                      NCC                   NCCENR   \n",
      "0  01   84    01053     5                      AIN                      Ain  \\\n",
      "1  02   32    02408     5                    AISNE                    Aisne   \n",
      "2  03   84    03190     5                   ALLIER                   Allier   \n",
      "3  04   93    04070     4  ALPES DE HAUTE PROVENCE  Alpes-de-Haute-Provence   \n",
      "4  05   93    05061     4             HAUTES ALPES             Hautes-Alpes   \n",
      "\n",
      "                   LIBELLE  \n",
      "0                      Ain  \n",
      "1                    Aisne  \n",
      "2                   Allier  \n",
      "3  Alpes-de-Haute-Provence  \n",
      "4             Hautes-Alpes  \n",
      "23\n"
     ]
    }
   ],
   "source": [
    "departements = pd.read_csv('data/CDR/v_departement_2023.csv', sep=',')\n",
    "print(departements.head())\n",
    "\n",
    "# On print le plus long nom de departement\n",
    "print(departements['LIBELLE'].str.len().max())"
   ]
  },
  {
   "cell_type": "markdown",
   "metadata": {},
   "source": [
    "Modele Table Departement:\n",
    "\n",
    "- idDepartement: varchar(3) PRIMARY KEY\n",
    "- nomDepartement: varchar(23)\n",
    "- cheflieu : CHAR(5) references COMMUNE(idCommune) NULL Allowed\n",
    "- idRegion: int references REGION(idRegion)"
   ]
  },
  {
   "cell_type": "code",
   "execution_count": 10,
   "metadata": {},
   "outputs": [
    {
     "name": "stdout",
     "output_type": "stream",
     "text": [
      "    REG CHEFLIEU  TNCC                         NCC   \n",
      "0     1    97105     3                  GUADELOUPE  \\\n",
      "1     2    97209     3                  MARTINIQUE   \n",
      "2     3    97302     3                      GUYANE   \n",
      "3     4    97411     0                  LA REUNION   \n",
      "4     6    97608     0                     MAYOTTE   \n",
      "5    11    75056     1               ILE DE FRANCE   \n",
      "6    24    45234     2         CENTRE VAL DE LOIRE   \n",
      "7    27    21231     0     BOURGOGNE FRANCHE COMTE   \n",
      "8    28    76540     0                   NORMANDIE   \n",
      "9    32    59350     4             HAUTS DE FRANCE   \n",
      "10   44    67482     2                   GRAND EST   \n",
      "11   52    44109     4            PAYS DE LA LOIRE   \n",
      "12   53    35238     0                    BRETAGNE   \n",
      "13   75    33063     3          NOUVELLE AQUITAINE   \n",
      "14   76    31555     1                   OCCITANIE   \n",
      "15   84    69123     1        AUVERGNE RHONE ALPES   \n",
      "16   93    13055     0  PROVENCE ALPES COTE D AZUR   \n",
      "17   94    2A004     0                       CORSE   \n",
      "\n",
      "                        NCCENR                     LIBELLE  \n",
      "0                   Guadeloupe                  Guadeloupe  \n",
      "1                   Martinique                  Martinique  \n",
      "2                       Guyane                      Guyane  \n",
      "3                   La Réunion                  La Réunion  \n",
      "4                      Mayotte                     Mayotte  \n",
      "5                Île-de-France               Île-de-France  \n",
      "6          Centre-Val de Loire         Centre-Val de Loire  \n",
      "7      Bourgogne-Franche-Comté     Bourgogne-Franche-Comté  \n",
      "8                    Normandie                   Normandie  \n",
      "9              Hauts-de-France             Hauts-de-France  \n",
      "10                   Grand Est                   Grand Est  \n",
      "11            Pays de la Loire            Pays de la Loire  \n",
      "12                    Bretagne                    Bretagne  \n",
      "13          Nouvelle-Aquitaine          Nouvelle-Aquitaine  \n",
      "14                   Occitanie                   Occitanie  \n",
      "15        Auvergne-Rhône-Alpes        Auvergne-Rhône-Alpes  \n",
      "16  Provence-Alpes-Côte d'Azur  Provence-Alpes-Côte d'Azur  \n",
      "17                       Corse                       Corse  \n",
      "5\n"
     ]
    }
   ],
   "source": [
    "regions = pd.read_csv('data/CDR/v_region_2023.csv', sep=',')\n",
    "print(regions)\n",
    "\n",
    "# On regarde la longueur max des noms de région\n",
    "print(regions['CHEFLIEU'].apply(len).max())"
   ]
  },
  {
   "cell_type": "markdown",
   "metadata": {},
   "source": [
    "Modele table Region:\n",
    "\n",
    "- idRegion: int PRIMARY KEY\n",
    "- nomRegion : varchar(26)\n",
    "- cheflieu : char(5) references COMMUNE(idCommune) NULL Allowed"
   ]
  }
 ],
 "metadata": {
  "kernelspec": {
   "display_name": "Python 3",
   "language": "python",
   "name": "python3"
  },
  "language_info": {
   "codemirror_mode": {
    "name": "ipython",
    "version": 3
   },
   "file_extension": ".py",
   "mimetype": "text/x-python",
   "name": "python",
   "nbconvert_exporter": "python",
   "pygments_lexer": "ipython3",
   "version": "3.11.3"
  }
 },
 "nbformat": 4,
 "nbformat_minor": 2
}
