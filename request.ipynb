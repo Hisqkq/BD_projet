{
 "cells": [
  {
   "cell_type": "markdown",
   "metadata": {},
   "source": [
    "## Request\n",
    "\n",
    "Dans un programme réalisé dans le langage de votre choix (de préférence C, C++, Java ou Python), réalisez au moins trois requêtes et faites afficher les résultats de façon lisible et compréhensible pour un non informaticien : liste des départements d'une région donnée, liste des communes de plus de X habitants d'un département donné, la région la plus/la moins peuplée, les communes les plus/les moins peuplées d'un département, etc."
   ]
  },
  {
   "cell_type": "code",
   "execution_count": 37,
   "metadata": {},
   "outputs": [],
   "source": [
    "import psycopg2\n",
    "import psycopg2.extras\n",
    "import pandas as pd\n",
    "from db import connect\n",
    "import warnings\n",
    "warnings.simplefilter(action='ignore', category=pd.errors.SettingWithCopyWarning)\n",
    "\n",
    "conn = connect()\n",
    "cur = conn.cursor(cursor_factory=psycopg2.extras.DictCursor)"
   ]
  },
  {
   "cell_type": "code",
   "execution_count": 38,
   "metadata": {},
   "outputs": [
    {
     "name": "stdout",
     "output_type": "stream",
     "text": [
      "Tables supprimées avec succès\n",
      "Tables créées avec succès\n"
     ]
    }
   ],
   "source": [
    "import drop\n",
    "import my_create_table\n",
    "\n",
    "# creation de tables\n",
    "\n",
    "drop.drop_tables(cur, conn)\n",
    "my_create_table.create_tables(cur, conn)"
   ]
  },
  {
   "cell_type": "code",
   "execution_count": 39,
   "metadata": {},
   "outputs": [
    {
     "name": "stdout",
     "output_type": "stream",
     "text": [
      "Données insérées dans la table 'region' avec succès\n",
      "Données insérées dans la table 'departement' avec succès\n",
      "Données insérées dans la table 'commune' avec succès\n",
      "Données insérées dans la table 'chef_lieu_departement' avec succès\n",
      "Données insérées dans la table 'chef_lieu_region' avec succès\n",
      "Données insérées dans la table 'statistiques_population' avec succès\n",
      "Données insérées dans la table 'statistiques_mariages_age' avec succès\n",
      "Données insérées dans la table 'statistiques_mariages_etat_matrimonial' avec succès\n",
      "Données insérées dans la table 'statistiques_mariages_mensuel' avec succès\n",
      "Données insérées dans la table 'statistiques_mariages_origine' avec succès\n"
     ]
    }
   ],
   "source": [
    "import insert_commune\n",
    "import insert_stats_population\n",
    "import insert_stats_mariage\n",
    "\n",
    "insert_commune.fill_tables_commune()\n",
    "insert_stats_population.fill_tables_population() #30s-1min\n",
    "insert_stats_mariage.fill_tables_mariage() "
   ]
  },
  {
   "cell_type": "markdown",
   "metadata": {},
   "source": [
    "### Liste des départements d'une Region"
   ]
  },
  {
   "cell_type": "code",
   "execution_count": 40,
   "metadata": {},
   "outputs": [
    {
     "name": "stdout",
     "output_type": "stream",
     "text": [
      "   id_departement       nom_departement\n",
      "0              16              Charente\n",
      "1              17     Charente-Maritime\n",
      "2              19               Corrèze\n",
      "3              23                Creuse\n",
      "4              24              Dordogne\n",
      "5              33               Gironde\n",
      "6              40                Landes\n",
      "7              47        Lot-et-Garonne\n",
      "8              64  Pyrénées-Atlantiques\n",
      "9              79           Deux-Sèvres\n",
      "10             86                Vienne\n",
      "11             87          Haute-Vienne\n"
     ]
    }
   ],
   "source": [
    "nom_region = \"Nouvelle-Aquitaine\"\n",
    "\n",
    "request = f\"\"\"\n",
    "SELECT d.id_departement, d.nom_departement\n",
    "FROM departement d\n",
    "JOIN region r ON d.id_region = r.id_region\n",
    "WHERE r.nom_region = '{nom_region}';\n",
    "\"\"\"\n",
    "\n",
    "cur.execute(request)\n",
    "rows = cur.fetchall()\n",
    "\n",
    "df = pd.DataFrame(rows, columns=['id_departement', 'nom_departement'])\n",
    "print(df)\n"
   ]
  },
  {
   "cell_type": "markdown",
   "metadata": {},
   "source": [
    "### Liste des communes de plus de X habitants d'un département donné"
   ]
  },
  {
   "cell_type": "code",
   "execution_count": 41,
   "metadata": {},
   "outputs": [
    {
     "name": "stdout",
     "output_type": "stream",
     "text": [
      "  id_commune            nom_commune  population\n",
      "0      24037               Bergerac     26360.0\n",
      "1      24053  Boulazac Isle Manoire     10738.0\n",
      "2      24322              Périgueux     29255.0\n"
     ]
    }
   ],
   "source": [
    "# Code du département et nombre minimum d'habitants\n",
    "id_departement = \"24\"\n",
    "min_population = 10_000\n",
    "\n",
    "request = f\"\"\"\n",
    "SELECT c.id_commune, c.nom_commune, sp.valeur AS population\n",
    "FROM commune c\n",
    "JOIN statistiques_population sp ON c.id_commune = sp.codgeo\n",
    "WHERE c.id_departement = '{id_departement}'\n",
    "  AND sp.annee = 2020\n",
    "  AND sp.type_statistique = 'Population'\n",
    "  AND sp.valeur > {min_population};\n",
    "\"\"\"\n",
    "\n",
    "cur.execute(request)\n",
    "rows = cur.fetchall()\n",
    "df = pd.DataFrame(rows, columns=['id_commune', 'nom_commune', 'population'])\n",
    "print(df)\n"
   ]
  },
  {
   "cell_type": "markdown",
   "metadata": {},
   "source": [
    "### La région la plus peuplé"
   ]
  },
  {
   "cell_type": "code",
   "execution_count": 42,
   "metadata": {},
   "outputs": [
    {
     "name": "stdout",
     "output_type": "stream",
     "text": [
      "   id_region     nom_region  population_totale\n",
      "0         11  Île-de-France         14417700.0\n"
     ]
    }
   ],
   "source": [
    "request = \"\"\"\n",
    "SELECT r.id_region, r.nom_region, SUM(sp.valeur) AS population_totale\n",
    "FROM region r\n",
    "JOIN departement d ON r.id_region = d.id_region\n",
    "JOIN commune c ON d.id_departement = c.id_departement\n",
    "JOIN statistiques_population sp ON c.id_commune = sp.codgeo\n",
    "WHERE sp.annee = 2020 AND sp.type_statistique = 'Population'\n",
    "GROUP BY r.id_region, r.nom_region\n",
    "ORDER BY population_totale DESC\n",
    "LIMIT 1;\n",
    "\"\"\"\n",
    "\n",
    "cur.execute(request)\n",
    "rows = cur.fetchall()\n",
    "df = pd.DataFrame(rows, columns=['id_region', 'nom_region', 'population_totale'])\n",
    "print(df)\n"
   ]
  },
  {
   "cell_type": "markdown",
   "metadata": {},
   "source": [
    "### Le département le plus peuplé d'une région donnée"
   ]
  },
  {
   "cell_type": "code",
   "execution_count": 43,
   "metadata": {},
   "outputs": [
    {
     "name": "stdout",
     "output_type": "stream",
     "text": [
      "  id_departement nom_departement  population_totale\n",
      "0             31   Haute-Garonne          1415757.0\n"
     ]
    }
   ],
   "source": [
    "nom_region = 'Occitanie'\n",
    "\n",
    "request = f\"\"\"SELECT d.id_departement, d.nom_departement, SUM(sp.valeur) AS population_totale\n",
    "FROM departement d\n",
    "JOIN commune c ON d.id_departement = c.id_departement\n",
    "JOIN statistiques_population sp ON c.id_commune = sp.codgeo\n",
    "WHERE d.id_region = (SELECT id_region FROM region WHERE nom_region = '{nom_region}')\n",
    "  AND sp.annee = 2020 AND sp.type_statistique = 'Population'\n",
    "GROUP BY d.id_departement, d.nom_departement\n",
    "ORDER BY population_totale DESC\n",
    "LIMIT 1;\n",
    "\"\"\"\n",
    "\n",
    "cur.execute(request)\n",
    "rows = cur.fetchall()\n",
    "df = pd.DataFrame(rows, columns=['id_departement', 'nom_departement', 'population_totale'])\n",
    "print(df)"
   ]
  },
  {
   "cell_type": "markdown",
   "metadata": {},
   "source": [
    "### Le nombre de mariages par région "
   ]
  },
  {
   "cell_type": "code",
   "execution_count": 44,
   "metadata": {},
   "outputs": [
    {
     "name": "stdout",
     "output_type": "stream",
     "text": [
      "    id_region                  nom_region  total_mariages\n",
      "0          11               Île-de-France           84316\n",
      "1          84        Auvergne-Rhône-Alpes           53594\n",
      "2          76                   Occitanie           38690\n",
      "3          93  Provence-Alpes-Côte d'Azur           37734\n",
      "4          32             Hauts-de-France           37596\n",
      "5          75          Nouvelle-Aquitaine           37266\n",
      "6          44                   Grand Est           35724\n",
      "7          52            Pays de la Loire           24304\n",
      "8          28                   Normandie           21306\n",
      "9          53                    Bretagne           19930\n",
      "10         27     Bourgogne-Franche-Comté           17230\n",
      "11         24         Centre-Val de Loire           15838\n",
      "12         94                       Corse            2236\n"
     ]
    }
   ],
   "source": [
    "request = f\"\"\"SELECT r.id_region, r.nom_region, SUM(sm.nb_mariages) AS total_mariages\n",
    "FROM region r\n",
    "JOIN statistiques_mariages_age sm ON r.id_region = sm.id_region\n",
    "WHERE sm.annee = 2021\n",
    "GROUP BY r.id_region, r.nom_region\n",
    "ORDER BY total_mariages DESC;\"\"\"\n",
    "\n",
    "cur.execute(request)\n",
    "rows = cur.fetchall()\n",
    "df = pd.DataFrame(rows, columns=['id_region', 'nom_region', 'total_mariages'])\n",
    "print(df)"
   ]
  },
  {
   "cell_type": "markdown",
   "metadata": {},
   "source": [
    "### Le nombre de mariages par tranche d'âge dans une région donnée"
   ]
  },
  {
   "cell_type": "code",
   "execution_count": 45,
   "metadata": {},
   "outputs": [
    {
     "name": "stdout",
     "output_type": "stream",
     "text": [
      "  tranche_age  total_mariages\n",
      "0       14_19              48\n",
      "1       20_24            1410\n",
      "2       25_29            5593\n",
      "3       30_34            8148\n",
      "4       35_39            6024\n",
      "5       40_49            7401\n",
      "6       50_59            5135\n",
      "7       60_PL            3507\n"
     ]
    }
   ],
   "source": [
    "nom_region = 'Nouvelle-Aquitaine'\n",
    "request = f\"\"\"SELECT sma.grage AS tranche_age, SUM(sma.nb_mariages) AS total_mariages\n",
    "FROM statistiques_mariages_age sma\n",
    "JOIN region r ON sma.id_region = r.id_region\n",
    "WHERE sma.annee = 2021 AND r.nom_region = '{nom_region}'\n",
    "GROUP BY sma.grage\n",
    "ORDER BY sma.grage;\n",
    "\"\"\"\n",
    "\n",
    "cur.execute(request)\n",
    "rows = cur.fetchall()\n",
    "df = pd.DataFrame(rows, columns=['tranche_age', 'total_mariages'])\n",
    "print(df)"
   ]
  },
  {
   "cell_type": "markdown",
   "metadata": {},
   "source": [
    "### Le nombre de mariages où au moins un des conjoints est un étranger, par région en une année donnée"
   ]
  },
  {
   "cell_type": "code",
   "execution_count": 46,
   "metadata": {},
   "outputs": [
    {
     "name": "stdout",
     "output_type": "stream",
     "text": [
      "Empty DataFrame\n",
      "Columns: [id_region, nom_region, total_mariages]\n",
      "Index: []\n"
     ]
    }
   ],
   "source": [
    "request = \"\"\"SELECT r.id_region, r.nom_region, SUM(sme.nb_mariages_nationalite) AS total_mariages\n",
    "FROM region r\n",
    "JOIN statistiques_mariages_origine sme ON r.id_region = sme.id_region\n",
    "WHERE sme.annee = 2020 AND sme.code IN ('FR_ETR', 'ETR_ETR')\n",
    "GROUP BY r.id_region, r.nom_region\n",
    "ORDER BY total_mariages DESC;\"\"\"\n",
    "cur.execute(request)\n",
    "rows = cur.fetchall()\n",
    "df = pd.DataFrame(rows, columns=['id_region', 'nom_region', 'total_mariages'])\n",
    "print(df)"
   ]
  },
  {
   "cell_type": "markdown",
   "metadata": {},
   "source": [
    "## Views"
   ]
  },
  {
   "cell_type": "markdown",
   "metadata": {},
   "source": [
    "Créer deux vues (cf commande CREATE OR REPLACE VIEW) qui donnent la population des départements et des régions pour les différentes années ainsi que les indicateurs existants."
   ]
  },
  {
   "cell_type": "markdown",
   "metadata": {},
   "source": [
    "### Vue 1 : Population des départements"
   ]
  },
  {
   "cell_type": "code",
   "execution_count": 47,
   "metadata": {},
   "outputs": [
    {
     "data": {
      "text/html": [
       "<div>\n",
       "<style scoped>\n",
       "    .dataframe tbody tr th:only-of-type {\n",
       "        vertical-align: middle;\n",
       "    }\n",
       "\n",
       "    .dataframe tbody tr th {\n",
       "        vertical-align: top;\n",
       "    }\n",
       "\n",
       "    .dataframe thead th {\n",
       "        text-align: right;\n",
       "    }\n",
       "</style>\n",
       "<table border=\"1\" class=\"dataframe\">\n",
       "  <thead>\n",
       "    <tr style=\"text-align: right;\">\n",
       "      <th></th>\n",
       "      <th>id_departement</th>\n",
       "      <th>nom_departement</th>\n",
       "      <th>annee</th>\n",
       "      <th>type_statistique</th>\n",
       "      <th>population_totale</th>\n",
       "    </tr>\n",
       "  </thead>\n",
       "  <tbody>\n",
       "    <tr>\n",
       "      <th>0</th>\n",
       "      <td>75</td>\n",
       "      <td>Paris</td>\n",
       "      <td>2020</td>\n",
       "      <td>Population</td>\n",
       "      <td>4291812.0</td>\n",
       "    </tr>\n",
       "    <tr>\n",
       "      <th>1</th>\n",
       "      <td>13</td>\n",
       "      <td>Bouches-du-Rhône</td>\n",
       "      <td>2020</td>\n",
       "      <td>Population</td>\n",
       "      <td>2918391.0</td>\n",
       "    </tr>\n",
       "    <tr>\n",
       "      <th>2</th>\n",
       "      <td>59</td>\n",
       "      <td>Nord</td>\n",
       "      <td>2020</td>\n",
       "      <td>Population</td>\n",
       "      <td>2607746.0</td>\n",
       "    </tr>\n",
       "    <tr>\n",
       "      <th>3</th>\n",
       "      <td>69</td>\n",
       "      <td>Rhône</td>\n",
       "      <td>2020</td>\n",
       "      <td>Population</td>\n",
       "      <td>2405665.0</td>\n",
       "    </tr>\n",
       "    <tr>\n",
       "      <th>4</th>\n",
       "      <td>93</td>\n",
       "      <td>Seine-Saint-Denis</td>\n",
       "      <td>2020</td>\n",
       "      <td>Population</td>\n",
       "      <td>1655422.0</td>\n",
       "    </tr>\n",
       "    <tr>\n",
       "      <th>...</th>\n",
       "      <td>...</td>\n",
       "      <td>...</td>\n",
       "      <td>...</td>\n",
       "      <td>...</td>\n",
       "      <td>...</td>\n",
       "    </tr>\n",
       "    <tr>\n",
       "      <th>91</th>\n",
       "      <td>15</td>\n",
       "      <td>Cantal</td>\n",
       "      <td>2020</td>\n",
       "      <td>Population</td>\n",
       "      <td>144379.0</td>\n",
       "    </tr>\n",
       "    <tr>\n",
       "      <th>92</th>\n",
       "      <td>05</td>\n",
       "      <td>Hautes-Alpes</td>\n",
       "      <td>2020</td>\n",
       "      <td>Population</td>\n",
       "      <td>140605.0</td>\n",
       "    </tr>\n",
       "    <tr>\n",
       "      <th>93</th>\n",
       "      <td>90</td>\n",
       "      <td>Territoire de Belfort</td>\n",
       "      <td>2020</td>\n",
       "      <td>Population</td>\n",
       "      <td>140120.0</td>\n",
       "    </tr>\n",
       "    <tr>\n",
       "      <th>94</th>\n",
       "      <td>23</td>\n",
       "      <td>Creuse</td>\n",
       "      <td>2020</td>\n",
       "      <td>Population</td>\n",
       "      <td>115995.0</td>\n",
       "    </tr>\n",
       "    <tr>\n",
       "      <th>95</th>\n",
       "      <td>48</td>\n",
       "      <td>Lozère</td>\n",
       "      <td>2020</td>\n",
       "      <td>Population</td>\n",
       "      <td>76633.0</td>\n",
       "    </tr>\n",
       "  </tbody>\n",
       "</table>\n",
       "<p>96 rows × 5 columns</p>\n",
       "</div>"
      ],
      "text/plain": [
       "   id_departement        nom_departement  annee type_statistique  \\\n",
       "0              75                  Paris   2020       Population   \n",
       "1              13       Bouches-du-Rhône   2020       Population   \n",
       "2              59                   Nord   2020       Population   \n",
       "3              69                  Rhône   2020       Population   \n",
       "4              93      Seine-Saint-Denis   2020       Population   \n",
       "..            ...                    ...    ...              ...   \n",
       "91             15                 Cantal   2020       Population   \n",
       "92             05           Hautes-Alpes   2020       Population   \n",
       "93             90  Territoire de Belfort   2020       Population   \n",
       "94             23                 Creuse   2020       Population   \n",
       "95             48                 Lozère   2020       Population   \n",
       "\n",
       "    population_totale  \n",
       "0           4291812.0  \n",
       "1           2918391.0  \n",
       "2           2607746.0  \n",
       "3           2405665.0  \n",
       "4           1655422.0  \n",
       "..                ...  \n",
       "91           144379.0  \n",
       "92           140605.0  \n",
       "93           140120.0  \n",
       "94           115995.0  \n",
       "95            76633.0  \n",
       "\n",
       "[96 rows x 5 columns]"
      ]
     },
     "execution_count": 47,
     "metadata": {},
     "output_type": "execute_result"
    }
   ],
   "source": [
    "vue = \"\"\"\n",
    "CREATE OR REPLACE VIEW vue_population_departement AS\n",
    "SELECT d.id_departement, d.nom_departement, sp.annee, sp.type_statistique, SUM(sp.valeur) AS population_totale\n",
    "FROM departement d\n",
    "JOIN commune c ON d.id_departement = c.id_departement\n",
    "JOIN statistiques_population sp ON c.id_commune = sp.codgeo\n",
    "WHERE sp.type_statistique = 'Population'\n",
    "GROUP BY d.id_departement, d.nom_departement, sp.annee, sp.type_statistique;\n",
    "\"\"\"\n",
    "\n",
    "cur.execute(vue)\n",
    "\n",
    "request = \"\"\"\n",
    "SELECT *\n",
    "FROM vue_population_departement\n",
    "WHERE annee = 2020\n",
    "ORDER BY population_totale DESC;\n",
    "\"\"\"\n",
    "cur.execute(request)\n",
    "conn.commit()\n",
    "rows = cur.fetchall()\n",
    "df = pd.DataFrame(rows, columns=['id_departement', 'nom_departement', 'annee', 'type_statistique', 'population_totale'])\n",
    "df\n"
   ]
  },
  {
   "cell_type": "markdown",
   "metadata": {},
   "source": [
    "### Vue 2 : Population des régions"
   ]
  },
  {
   "cell_type": "code",
   "execution_count": 48,
   "metadata": {},
   "outputs": [
    {
     "name": "stdout",
     "output_type": "stream",
     "text": [
      "    id_region                  nom_region  annee type_statistique  \\\n",
      "0          11               Île-de-France   2020       Population   \n",
      "1          84        Auvergne-Rhône-Alpes   2020       Population   \n",
      "2          75          Nouvelle-Aquitaine   2020       Population   \n",
      "3          32             Hauts-de-France   2020       Population   \n",
      "4          76                   Occitanie   2020       Population   \n",
      "5          93  Provence-Alpes-Côte d'Azur   2020       Population   \n",
      "6          44                   Grand Est   2020       Population   \n",
      "7          52            Pays de la Loire   2020       Population   \n",
      "8          53                    Bretagne   2020       Population   \n",
      "9          28                   Normandie   2020       Population   \n",
      "10         27     Bourgogne-Franche-Comté   2020       Population   \n",
      "11         24         Centre-Val de Loire   2020       Population   \n",
      "12         94                       Corse   2020       Population   \n",
      "\n",
      "    population_totale  \n",
      "0          14417700.0  \n",
      "1           8600880.0  \n",
      "2           6033952.0  \n",
      "3           5997734.0  \n",
      "4           5973969.0  \n",
      "5           5968987.0  \n",
      "6           5562651.0  \n",
      "7           3832120.0  \n",
      "8           3373835.0  \n",
      "9           3325522.0  \n",
      "10          2801695.0  \n",
      "11          2574863.0  \n",
      "12           343701.0  \n"
     ]
    }
   ],
   "source": [
    "vue_region = \"\"\"\n",
    "CREATE OR REPLACE VIEW vue_population_region AS\n",
    "SELECT r.id_region, r.nom_region, sp.annee, sp.type_statistique, SUM(sp.valeur) AS population_totale\n",
    "FROM region r\n",
    "JOIN departement d ON r.id_region = d.id_region\n",
    "JOIN commune c ON d.id_departement = c.id_departement\n",
    "JOIN statistiques_population sp ON c.id_commune = sp.codgeo\n",
    "WHERE sp.type_statistique = 'Population'\n",
    "GROUP BY r.id_region, r.nom_region, sp.annee, sp.type_statistique;\n",
    "\"\"\"\n",
    "\n",
    "try:\n",
    "    cur.execute(vue_region)\n",
    "    conn.commit()  \n",
    "    \n",
    "    request = \"\"\"\n",
    "    SELECT *\n",
    "    FROM vue_population_region\n",
    "    WHERE annee = 2020\n",
    "    ORDER BY population_totale DESC;\n",
    "    \"\"\"\n",
    "    \n",
    "    cur.execute(request)\n",
    "    rows = cur.fetchall()\n",
    "    df = pd.DataFrame(rows, columns=['id_region', 'nom_region', 'annee', 'type_statistique', 'population_totale'])\n",
    "    print(df)\n",
    "    \n",
    "except Exception as e:\n",
    "    conn.rollback() \n",
    "    print(f\"Error: {e}\")\n"
   ]
  },
  {
   "cell_type": "markdown",
   "metadata": {},
   "source": [
    "## Procédure stockée"
   ]
  },
  {
   "cell_type": "code",
   "execution_count": 49,
   "metadata": {},
   "outputs": [],
   "source": [
    "alter_departements = \"ALTER TABLE departement ADD COLUMN population_totale INT;\"\n",
    "alter_regions = \"ALTER TABLE region ADD COLUMN population_totale INT;\"\n",
    "\n",
    "cur.execute(alter_departements)\n",
    "cur.execute(alter_regions)\n",
    "conn.commit()\n",
    "\n",
    "# Créer la procédure stockée\n",
    "procedure_calcul = \"\"\"\n",
    "CREATE OR REPLACE PROCEDURE calculer_population()\n",
    "LANGUAGE plpgsql\n",
    "AS $$\n",
    "BEGIN\n",
    "    -- Calculer la population des départements\n",
    "    UPDATE departement d\n",
    "    SET population_totale = sub.population\n",
    "    FROM (\n",
    "        SELECT c.id_departement, SUM(sp.valeur) AS population\n",
    "        FROM commune c\n",
    "        JOIN statistiques_population sp ON c.id_commune = sp.codgeo\n",
    "        WHERE sp.type_statistique = 'Population' AND sp.annee = 2020\n",
    "        GROUP BY c.id_departement\n",
    "    ) AS sub\n",
    "    WHERE d.id_departement = sub.id_departement;\n",
    "\n",
    "    -- Calculer la population des régions\n",
    "    UPDATE region r\n",
    "    SET population_totale = sub.population\n",
    "    FROM (\n",
    "        SELECT d.id_region, SUM(d.population_totale) AS population\n",
    "        FROM departement d\n",
    "        GROUP BY d.id_region\n",
    "    ) AS sub\n",
    "    WHERE r.id_region = sub.id_region;\n",
    "END;\n",
    "$$;\n",
    "\"\"\"\n",
    "\n",
    "cur.execute(procedure_calcul)\n",
    "conn.commit()\n",
    "\n",
    "# Exécuter la procédure stockée\n",
    "cur.execute(\"CALL calculer_population();\")\n",
    "conn.commit()\n",
    "\n",
    "# Fermeture de la connexion\n",
    "cur.close()\n",
    "conn.close()"
   ]
  },
  {
   "cell_type": "code",
   "execution_count": 50,
   "metadata": {},
   "outputs": [
    {
     "name": "stdout",
     "output_type": "stream",
     "text": [
      "   id_departement          nom_departement  id_region  population_totale\n",
      "0              01                      Ain         84             657856\n",
      "1              02                    Aisne         32             529374\n",
      "2              03                   Allier         84             335628\n",
      "3              04  Alpes-de-Haute-Provence         93             165451\n",
      "4              05             Hautes-Alpes         93             140605\n",
      "..            ...                      ...        ...                ...\n",
      "91             91                  Essonne         11            1306118\n",
      "92             92           Hauts-de-Seine         11            1626213\n",
      "93             93        Seine-Saint-Denis         11            1655422\n",
      "94             94             Val-de-Marne         11            1407972\n",
      "95             95               Val-d'Oise         11            1251804\n",
      "\n",
      "[96 rows x 4 columns]\n"
     ]
    }
   ],
   "source": [
    "# On verifie que les colonnes ont bien été ajoutées et que les populations ont bien été calculées\n",
    "conn = connect()\n",
    "cur = conn.cursor(cursor_factory=psycopg2.extras.DictCursor)\n",
    "\n",
    "request = \"\"\"\n",
    "SELECT * FROM departement;\n",
    "\"\"\"\n",
    "cur.execute(request)\n",
    "rows = cur.fetchall()\n",
    "df = pd.DataFrame(rows, columns=['id_departement', 'nom_departement', 'id_region', 'population_totale'])\n",
    "print(df)"
   ]
  },
  {
   "cell_type": "markdown",
   "metadata": {},
   "source": [
    "## Triggers"
   ]
  },
  {
   "cell_type": "code",
   "execution_count": 51,
   "metadata": {},
   "outputs": [],
   "source": [
    "try:\n",
    "    # Création du trigger pour empêcher les modifications dans la table region\n",
    "    bloque_region = \"\"\"\n",
    "    CREATE OR REPLACE FUNCTION bloque_modifications_region()\n",
    "    RETURNS trigger AS $$\n",
    "    BEGIN\n",
    "        RAISE EXCEPTION 'Modification de la table region non autorisée';\n",
    "        RETURN NULL;\n",
    "    END;\n",
    "    $$ LANGUAGE plpgsql;\n",
    "\n",
    "    CREATE TRIGGER tr_bloquer_modifications_region\n",
    "    BEFORE INSERT OR UPDATE OR DELETE ON region\n",
    "    FOR EACH ROW EXECUTE FUNCTION bloque_modifications_region();\n",
    "    \"\"\"\n",
    "    \n",
    "    # Création du trigger pour empêcher les modifications dans la table departement\n",
    "    bloque_departement = \"\"\"\n",
    "    CREATE OR REPLACE FUNCTION bloque_modifications_departement()\n",
    "    RETURNS trigger AS $$\n",
    "    BEGIN\n",
    "        RAISE EXCEPTION 'Modification de la table departement non autorisée';\n",
    "        RETURN NULL;\n",
    "    END;\n",
    "    $$ LANGUAGE plpgsql;\n",
    "\n",
    "    CREATE TRIGGER tr_bloquer_modifications_departement\n",
    "    BEFORE INSERT OR UPDATE OR DELETE ON departement\n",
    "    FOR EACH ROW EXECUTE FUNCTION bloque_modifications_departement();\n",
    "    \"\"\"\n",
    "    \n",
    "    # Création de la procédure pour mettre à jour les populations\n",
    "    procedure_calcul = \"\"\"\n",
    "    CREATE OR REPLACE PROCEDURE calculer_population()\n",
    "    LANGUAGE plpgsql\n",
    "    AS $$\n",
    "    BEGIN\n",
    "        -- Calculer la population des départements\n",
    "        UPDATE departement d\n",
    "        SET population_totale = sub.population\n",
    "        FROM (\n",
    "            SELECT c.id_departement, SUM(sp.valeur) AS population\n",
    "            FROM commune c\n",
    "            JOIN statistiques_population sp ON c.id_commune = sp.codgeo\n",
    "            WHERE sp.type_statistique = 'Population' AND sp.annee = 2020\n",
    "            GROUP BY c.id_departement\n",
    "        ) AS sub\n",
    "        WHERE d.id_departement = sub.id_departement;\n",
    "\n",
    "        -- Calculer la population des régions\n",
    "        UPDATE region r\n",
    "        SET population_totale = sub.population\n",
    "        FROM (\n",
    "            SELECT d.id_region, SUM(d.population_totale) AS population\n",
    "            FROM departement d\n",
    "            GROUP BY d.id_region\n",
    "        ) AS sub\n",
    "        WHERE r.id_region = sub.id_region;\n",
    "    END;\n",
    "    $$;\n",
    "    \"\"\"\n",
    "    \n",
    "    # Création du trigger pour mettre à jour les populations\n",
    "    maj_population = \"\"\"\n",
    "    CREATE OR REPLACE FUNCTION maj_population()\n",
    "    RETURNS trigger AS $$\n",
    "    BEGIN\n",
    "        PERFORM calculer_population();\n",
    "        RETURN NEW;\n",
    "    END;\n",
    "    $$ LANGUAGE plpgsql;\n",
    "\n",
    "    CREATE TRIGGER tr_maj_population\n",
    "    AFTER INSERT OR UPDATE ON statistiques_population\n",
    "    FOR EACH ROW EXECUTE FUNCTION maj_population();\n",
    "    \"\"\"\n",
    "\n",
    "    # Exécuter les commandes\n",
    "    cur.execute(bloque_region)\n",
    "    cur.execute(bloque_departement)\n",
    "    cur.execute(procedure_calcul)\n",
    "    cur.execute(maj_population)\n",
    "    \n",
    "    # Valider les changements\n",
    "    conn.commit()\n",
    "\n",
    "except Exception as e:\n",
    "    # Annuler la transaction en cas d'erreur\n",
    "    conn.rollback()\n",
    "    print(f\"Error: {e}\")\n",
    "\n",
    "finally:\n",
    "    # Fermer la connexion\n",
    "    cur.close()\n",
    "    conn.close()\n"
   ]
  },
  {
   "cell_type": "markdown",
   "metadata": {},
   "source": [
    "## Triggers suite"
   ]
  },
  {
   "cell_type": "code",
   "execution_count": 52,
   "metadata": {},
   "outputs": [],
   "source": [
    "conn = connect()\n",
    "cur = conn.cursor(cursor_factory=psycopg2.extras.DictCursor)\n",
    "\n",
    "try:\n",
    "    # Création de la procédure pour mettre à jour la population d'un département\n",
    "    procedure_update_departement = \"\"\"\n",
    "    CREATE OR REPLACE PROCEDURE update_population_departement()\n",
    "    LANGUAGE plpgsql\n",
    "    AS $$\n",
    "    BEGIN\n",
    "        UPDATE departement d\n",
    "        SET population_totale = sub.population\n",
    "        FROM (\n",
    "            SELECT c.id_departement, SUM(sp.valeur) AS population\n",
    "            FROM commune c\n",
    "            JOIN statistiques_population sp ON c.id_commune = sp.codgeo\n",
    "            WHERE sp.type_statistique = 'Population' AND sp.annee IN (2020, 2021, 2022, 2023)\n",
    "            GROUP BY c.id_departement\n",
    "            HAVING COUNT(c.id_commune) = (\n",
    "                SELECT COUNT(*)\n",
    "                FROM commune\n",
    "                WHERE id_departement = c.id_departement\n",
    "            )\n",
    "        ) AS sub\n",
    "        WHERE d.id_departement = sub.id_departement;\n",
    "    END;\n",
    "    $$;\n",
    "    \"\"\"\n",
    "\n",
    "    # Création de la procédure pour mettre à jour la population d'une région\n",
    "    procedure_update_region = \"\"\"\n",
    "    CREATE OR REPLACE PROCEDURE update_population_region()\n",
    "    LANGUAGE plpgsql\n",
    "    AS $$\n",
    "    BEGIN\n",
    "        UPDATE region r\n",
    "        SET population_totale = sub.population\n",
    "        FROM (\n",
    "            SELECT d.id_region, SUM(d.population_totale) AS population\n",
    "            FROM departement d\n",
    "            GROUP BY d.id_region\n",
    "            HAVING COUNT(d.id_departement) = (\n",
    "                SELECT COUNT(*)\n",
    "                FROM departement\n",
    "                WHERE id_region = d.id_region\n",
    "            )\n",
    "        ) AS sub\n",
    "        WHERE r.id_region = sub.id_region;\n",
    "    END;\n",
    "    $$;\n",
    "    \"\"\"\n",
    "\n",
    "    # Création de la procédure qui met à jour les populations des départements et des régions\n",
    "    procedure_update_all = \"\"\"\n",
    "    CREATE OR REPLACE PROCEDURE update_population_all()\n",
    "    LANGUAGE plpgsql\n",
    "    AS $$\n",
    "    BEGIN\n",
    "        PERFORM update_population_departement();\n",
    "        PERFORM update_population_region();\n",
    "    END;\n",
    "    $$;\n",
    "    \"\"\"\n",
    "\n",
    "    # Création du trigger pour mettre à jour les populations\n",
    "    trigger_update_population = \"\"\"\n",
    "    CREATE OR REPLACE FUNCTION trigger_population_update()\n",
    "    RETURNS trigger AS $$\n",
    "    BEGIN\n",
    "        PERFORM update_population_all();\n",
    "        RETURN NEW;\n",
    "    END;\n",
    "    $$ LANGUAGE plpgsql;\n",
    "\n",
    "    CREATE TRIGGER tr_update_population\n",
    "    AFTER INSERT OR UPDATE ON statistiques_population\n",
    "    FOR EACH ROW EXECUTE FUNCTION trigger_population_update();\n",
    "    \"\"\"\n",
    "\n",
    "    # Exécution des commandes\n",
    "    cur.execute(procedure_update_departement)\n",
    "    cur.execute(procedure_update_region)\n",
    "    cur.execute(procedure_update_all)\n",
    "    cur.execute(trigger_update_population)\n",
    "\n",
    "    # Valider les changements\n",
    "    conn.commit()\n",
    "\n",
    "except Exception as e:\n",
    "    # Annuler la transaction en cas d'erreur\n",
    "    conn.rollback()\n",
    "    print(f\"Error: {e}\")\n",
    "\n",
    "finally:\n",
    "    cur.close()\n",
    "    conn.close()\n"
   ]
  },
  {
   "cell_type": "markdown",
   "metadata": {},
   "source": [
    "## Plan d'exécution (EXPLAIN)\n",
    "### La région la plus peuplé"
   ]
  },
  {
   "cell_type": "code",
   "execution_count": 53,
   "metadata": {},
   "outputs": [
    {
     "name": "stdout",
     "output_type": "stream",
     "text": [
      "Limit  (cost=15109.01..15109.01 rows=1 width=82) (actual time=278.208..289.672 rows=1 loops=1)\n",
      "  ->  Sort  (cost=15109.01..15110.94 rows=770 width=82) (actual time=278.207..289.670 rows=1 loops=1)\n",
      "        Sort Key: (sum(sp.valeur)) DESC\n",
      "        Sort Method: top-N heapsort  Memory: 25kB\n",
      "        ->  Finalize GroupAggregate  (cost=14910.08..15105.16 rows=770 width=82) (actual time=278.151..289.643 rows=13 loops=1)\n",
      "              Group Key: r.id_region\n",
      "              ->  Gather Merge  (cost=14910.08..15089.76 rows=1540 width=82) (actual time=278.137..289.619 rows=35 loops=1)\n",
      "                    Workers Planned: 2\n",
      "                    Workers Launched: 2\n",
      "                    ->  Sort  (cost=13910.06..13911.98 rows=770 width=82) (actual time=265.169..265.178 rows=12 loops=3)\n",
      "                          Sort Key: r.id_region\n",
      "                          Sort Method: quicksort  Memory: 25kB\n",
      "                          Worker 0:  Sort Method: quicksort  Memory: 25kB\n",
      "                          Worker 1:  Sort Method: quicksort  Memory: 25kB\n",
      "                          ->  Partial HashAggregate  (cost=13865.44..13873.14 rows=770 width=82) (actual time=265.117..265.132 rows=12 loops=3)\n",
      "                                Group Key: r.id_region\n",
      "                                Batches: 1  Memory Usage: 49kB\n",
      "                                Worker 0:  Batches: 1  Memory Usage: 49kB\n",
      "                                Worker 1:  Batches: 1  Memory Usage: 49kB\n",
      "                                ->  Hash Join  (cost=1099.86..13805.39 rows=12010 width=82) (actual time=26.618..260.625 rows=11620 loops=3)\n",
      "                                      Hash Cond: (d.id_region = r.id_region)\n",
      "                                      ->  Hash Join  (cost=1072.53..13746.36 rows=12010 width=12) (actual time=26.525..255.871 rows=11620 loops=3)\n",
      "                                            Hash Cond: ((c.id_departement)::text = (d.id_departement)::text)\n",
      "                                            ->  Hash Join  (cost=1068.37..13709.29 rows=12010 width=11) (actual time=26.390..250.813 rows=11620 loops=3)\n",
      "                                                  Hash Cond: ((sp.codgeo)::bpchar = c.id_commune)\n",
      "                                                  ->  Parallel Seq Scan on statistiques_population sp  (cost=0.00..12609.39 rows=12010 width=14) (actual time=0.019..215.874 rows=11620 loops=3)\n",
      "                                                        Filter: ((annee = 2020) AND ((type_statistique)::text = 'Population'::text))\n",
      "                                                        Rows Removed by Filter: 244027\n",
      "                                                  ->  Hash  (cost=632.61..632.61 rows=34861 width=9) (actual time=25.935..25.936 rows=34861 loops=3)\n",
      "                                                        Buckets: 65536  Batches: 1  Memory Usage: 1908kB\n",
      "                                                        ->  Seq Scan on commune c  (cost=0.00..632.61 rows=34861 width=9) (actual time=0.049..10.725 rows=34861 loops=3)\n",
      "                                            ->  Hash  (cost=2.96..2.96 rows=96 width=7) (actual time=0.087..0.088 rows=96 loops=3)\n",
      "                                                  Buckets: 1024  Batches: 1  Memory Usage: 12kB\n",
      "                                                  ->  Seq Scan on departement d  (cost=0.00..2.96 rows=96 width=7) (actual time=0.030..0.055 rows=96 loops=3)\n",
      "                                      ->  Hash  (cost=17.70..17.70 rows=770 width=74) (actual time=0.062..0.063 rows=13 loops=3)\n",
      "                                            Buckets: 1024  Batches: 1  Memory Usage: 9kB\n",
      "                                            ->  Seq Scan on region r  (cost=0.00..17.70 rows=770 width=74) (actual time=0.046..0.048 rows=13 loops=3)\n",
      "Planning Time: 3.581 ms\n",
      "Execution Time: 290.121 ms\n"
     ]
    }
   ],
   "source": [
    "conn = connect()\n",
    "cur = conn.cursor(cursor_factory=psycopg2.extras.DictCursor)\n",
    "\n",
    "request = \"\"\"\n",
    "EXPLAIN ANALYSE SELECT r.id_region, r.nom_region, SUM(sp.valeur) AS population_totale\n",
    "FROM region r\n",
    "JOIN departement d ON r.id_region = d.id_region\n",
    "JOIN commune c ON d.id_departement = c.id_departement\n",
    "JOIN statistiques_population sp ON c.id_commune = sp.codgeo\n",
    "WHERE sp.annee = 2020 AND sp.type_statistique = 'Population'\n",
    "GROUP BY r.id_region, r.nom_region\n",
    "ORDER BY population_totale DESC\n",
    "LIMIT 1;\n",
    "\"\"\"\n",
    "\n",
    "cur.execute(request)\n",
    "rows = cur.fetchall()\n",
    "for row in rows:\n",
    "    print(row[0])"
   ]
  },
  {
   "cell_type": "markdown",
   "metadata": {},
   "source": [
    "Dans l'output ci-dessus, vous pouvez voir que le coût total estimé pour la requête est de 15108.32 unités. Cependant, le coût réel d'exécution peut être différent, car les estimations de coût sont basées sur les statistiques de la base de données, qui peuvent ne pas être parfaitement précises.\n",
    "\n",
    "Dans notre cas, le coût réel d'exécution de la requête était d'environ 104,881 ms (Execution Time: 104.881 ms). Cela signifie que la requête a pris un peu plus de 100 millisecondes pour s'exécuter.\n",
    "\n",
    "On peut voir que PostgreSQL a utilisé différents algorithmes de jointure et de tri pour exécuter la requête.\n",
    "\n",
    "**Algorithmes de jointure**\n",
    "\n",
    "1. **Hash Join** : Cet algorithme a été utilisé pour joindre les tables `statistiques_population` et `commune` sur la colonne `id_commune`. Il a également été utilisé pour joindre les tables `commune` et `departement` sur la colonne `id_departement`.\n",
    "2. **Nested Loop Join** : Cet algorithme a été utilisé pour joindre les tables `departement` et `region` sur la colonne `id_region`.\n",
    "\n",
    "**Stratégies de tri**\n",
    "\n",
    "1. **Sort Method: quicksort** : Cette stratégie de tri a été utilisée pour trier les résultats intermédiaires de la jointure entre les tables `statistiques_population`, `commune`, `departement` et `region`.\n",
    "2. **Top-N heapsort** : Cette stratégie de tri a été utilisée pour trier les résultats finaux de la requête, en utilisant l'ordre de tri spécifié dans la clause `ORDER BY` et en limitant le nombre de résultats à 1.\n",
    "\n",
    "Le choix de l'algorithme de jointure ou de tri dépend de plusieurs facteurs, tels que la taille des tables, la présence ou non d'index sur les colonnes de jointure, et les contraintes de performance spécifiées dans la requête. Dans ce cas, PostgreSQL a choisi les algorithmes et les stratégies de tri les plus efficaces pour exécuter la requête en fonction des données et des contraintes spécifiées. \n",
    "\n",
    "Afin de montrer l'intérêt des index, nous allons en implementer quelques-uns avant de comparer leurs performances."
   ]
  },
  {
   "cell_type": "markdown",
   "metadata": {},
   "source": [
    "## Plan d'exécution et index"
   ]
  },
  {
   "cell_type": "code",
   "execution_count": 54,
   "metadata": {},
   "outputs": [
    {
     "name": "stdout",
     "output_type": "stream",
     "text": [
      "Limit  (cost=12569.27..12569.27 rows=1 width=82) (actual time=108.643..108.653 rows=1 loops=1)\n",
      "  ->  Sort  (cost=12569.27..12571.20 rows=770 width=82) (actual time=108.642..108.652 rows=1 loops=1)\n",
      "        Sort Key: (sum(sp.valeur)) DESC\n",
      "        Sort Method: top-N heapsort  Memory: 25kB\n",
      "        ->  HashAggregate  (cost=12557.72..12565.42 rows=770 width=82) (actual time=108.626..108.641 rows=13 loops=1)\n",
      "              Group Key: r.id_region\n",
      "              Batches: 1  Memory Usage: 49kB\n",
      "              ->  Hash Join  (cost=2790.40..12413.60 rows=28824 width=82) (actual time=25.776..100.571 rows=34861 loops=1)\n",
      "                    Hash Cond: (d.id_region = r.id_region)\n",
      "                    ->  Hash Join  (cost=2763.07..12310.20 rows=28824 width=12) (actual time=25.745..88.399 rows=34861 loops=1)\n",
      "                          Hash Cond: ((c.id_departement)::text = (d.id_departement)::text)\n",
      "                          ->  Hash Join  (cost=2758.91..12227.04 rows=28824 width=11) (actual time=25.698..74.919 rows=34861 loops=1)\n",
      "                                Hash Cond: ((sp.codgeo)::bpchar = c.id_commune)\n",
      "                                ->  Bitmap Heap Scan on statistiques_population sp  (cost=1690.54..11082.99 rows=28824 width=14) (actual time=8.443..36.672 rows=34861 loops=1)\n",
      "                                      Recheck Cond: ((type_statistique)::text = 'Population'::text)\n",
      "                                      Filter: (annee = 2020)\n",
      "                                      Rows Removed by Filter: 69722\n",
      "                                      Heap Blocks: exact=872\n",
      "                                      ->  Bitmap Index Scan on pop_idx  (cost=0.00..1683.33 rows=105097 width=0) (actual time=8.306..8.307 rows=104583 loops=1)\n",
      "                                ->  Hash  (cost=632.61..632.61 rows=34861 width=9) (actual time=17.220..17.221 rows=34861 loops=1)\n",
      "                                      Buckets: 65536  Batches: 1  Memory Usage: 1908kB\n",
      "                                      ->  Seq Scan on commune c  (cost=0.00..632.61 rows=34861 width=9) (actual time=0.005..7.436 rows=34861 loops=1)\n",
      "                          ->  Hash  (cost=2.96..2.96 rows=96 width=7) (actual time=0.039..0.045 rows=96 loops=1)\n",
      "                                Buckets: 1024  Batches: 1  Memory Usage: 12kB\n",
      "                                ->  Seq Scan on departement d  (cost=0.00..2.96 rows=96 width=7) (actual time=0.005..0.021 rows=96 loops=1)\n",
      "                    ->  Hash  (cost=17.70..17.70 rows=770 width=74) (actual time=0.016..0.016 rows=13 loops=1)\n",
      "                          Buckets: 1024  Batches: 1  Memory Usage: 9kB\n",
      "                          ->  Seq Scan on region r  (cost=0.00..17.70 rows=770 width=74) (actual time=0.008..0.010 rows=13 loops=1)\n",
      "Planning Time: 2.188 ms\n",
      "Execution Time: 109.404 ms\n"
     ]
    }
   ],
   "source": [
    "request = \"\"\"\n",
    "CREATE INDEX pop_idx ON statistiques_population (valeur) WHERE type_statistique = 'Population';\n",
    "EXPLAIN ANALYSE SELECT r.id_region, r.nom_region, SUM(sp.valeur) AS population_totale\n",
    "FROM region r\n",
    "JOIN departement d ON r.id_region = d.id_region\n",
    "JOIN commune c ON d.id_departement = c.id_departement\n",
    "JOIN statistiques_population sp ON c.id_commune = sp.codgeo\n",
    "WHERE sp.annee = 2020 AND sp.type_statistique = 'Population'\n",
    "GROUP BY r.id_region, r.nom_region\n",
    "ORDER BY population_totale DESC\n",
    "LIMIT 1;\n",
    "\"\"\"\n",
    "\n",
    "cur.execute(request)\n",
    "rows = cur.fetchall()\n",
    "for row in rows:\n",
    "    print(row[0])"
   ]
  },
  {
   "cell_type": "markdown",
   "metadata": {},
   "source": [
    "On peut voir que l'utilisation d'un index a permis d'améliorer les performances de la requête.\n",
    "\n",
    "Sans l'index, la requête a dû parcourir l'intégralité de la table `statistiques_population` pour trouver les lignes correspondant à la condition `type_statistique = 'Population'`. Cela aurait nécessité un séquentiel scan complet de la table, ce qui peut être coûteux en termes de temps et de ressources, en particulier si la table est volumineuse.\n",
    "\n",
    "Avec l'index, la requête a pu utiliser un bitmap index scan pour trouver rapidement les lignes correspondant à la condition `type_statistique = 'Population'`. Cela a permis de réduire considérablement le nombre de lignes à examiner, ce qui a accéléré la requête.\n",
    "\n",
    "On peut voir dans l'output que le bitmap index scan a pris seulement 11,554 ms pour renvoyer les 104 583 lignes correspondant à la condition, alors qu'un séquentiel scan complet de la table aurait pris beaucoup plus de temps.\n",
    "\n",
    "Ensuite, la requête a utilisé un hash join pour joindre les tables `statistiques_population`, `commune`, `departement` et `region`, en utilisant les clés primaires et étrangères pour relier les lignes correspondantes. L'utilisation d'un index sur la colonne `id_commune` de la table `statistiques_population` a permis d'accélérer la jointure en utilisant un hash join plus efficace.\n",
    "\n",
    "Enfin, la requête a utilisé un tri top-N heapsort pour trier les résultats finaux en fonction de la population totale, et a renvoyé le premier résultat en utilisant une limite de 1.\n",
    "\n",
    "En comparant cet output à celui sans index, on peut voir que l'utilisation d'index a permis d'améliorer considérablement les performances de la requête, en réduisant le temps d'exécution de plus de la moitié (de 290.121 ms à 109.404 ms). Cela démontre l'importance des index dans l'optimisation des requêtes SQL."
   ]
  },
  {
   "cell_type": "markdown",
   "metadata": {},
   "source": [
    "## Pour aller plus loin : transactions"
   ]
  },
  {
   "cell_type": "code",
   "execution_count": null,
   "metadata": {},
   "outputs": [],
   "source": []
  }
 ],
 "metadata": {
  "kernelspec": {
   "display_name": "Python 3",
   "language": "python",
   "name": "python3"
  },
  "language_info": {
   "codemirror_mode": {
    "name": "ipython",
    "version": 3
   },
   "file_extension": ".py",
   "mimetype": "text/x-python",
   "name": "python",
   "nbconvert_exporter": "python",
   "pygments_lexer": "ipython3",
   "version": "3.11.5"
  }
 },
 "nbformat": 4,
 "nbformat_minor": 2
}
