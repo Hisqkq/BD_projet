{
 "cells": [
  {
   "cell_type": "markdown",
   "metadata": {},
   "source": [
    "## Request\n",
    "\n",
    "Dans un programme réalisé dans le langage de votre choix (de préférence C, C++, Java ou Python), réalisez au moins trois requêtes et faites afficher les résultats de façon lisible et compréhensible pour un non informaticien : liste des départements d'une région donnée, liste des communes de plus de X habitants d'un département donné, la région la plus/la moins peuplée, les communes les plus/les moins peuplées d'un département, etc."
   ]
  },
  {
   "cell_type": "code",
   "execution_count": null,
   "metadata": {},
   "outputs": [],
   "source": [
    "import psycopg2\n",
    "import psycopg2.extras\n",
    "import pandas as pd\n",
    "from db import connect\n",
    "\n",
    "conn = connect()\n",
    "cur = conn.cursor(cursor_factory=psycopg2.extras.DictCursor)"
   ]
  },
  {
   "cell_type": "code",
   "execution_count": null,
   "metadata": {},
   "outputs": [],
   "source": [
    "import drop\n",
    "import my_create_table\n",
    "\n",
    "drop.drop_tables(cur, conn)\n",
    "my_create_table.create_tables(cur, conn)"
   ]
  },
  {
   "cell_type": "code",
   "execution_count": null,
   "metadata": {},
   "outputs": [],
   "source": [
    "import insert_commune\n",
    "import insert_stats_population\n",
    "\n",
    "insert_commune.fill_tables_commune()\n",
    "insert_stats_population.fill_tables_population('data/statistiques/population/base-cc-serie-historique-2020.csv', 2000, 2020) #30s-1min"
   ]
  },
  {
   "cell_type": "markdown",
   "metadata": {},
   "source": [
    "### Liste des départements d'une Region"
   ]
  },
  {
   "cell_type": "code",
   "execution_count": null,
   "metadata": {},
   "outputs": [],
   "source": [
    "import pandas as pd\n",
    "\n",
    "nom_region = \"Nouvelle-Aquitaine\"\n",
    "\n",
    "request = f\"\"\"\n",
    "SELECT d.id_departement, d.nom_departement\n",
    "FROM departement d\n",
    "JOIN region r ON d.id_region = r.id_region\n",
    "WHERE r.nom_region = '{nom_region}';\n",
    "\"\"\"\n",
    "\n",
    "cur.execute(request)\n",
    "rows = cur.fetchall()\n",
    "\n",
    "df = pd.DataFrame(rows, columns=['id_departement', 'nom_departement'])\n",
    "print(df)\n"
   ]
  },
  {
   "cell_type": "markdown",
   "metadata": {},
   "source": [
    "### Liste des communes de plus de X habitants d'un département donné"
   ]
  },
  {
   "cell_type": "code",
   "execution_count": null,
   "metadata": {},
   "outputs": [],
   "source": [
    "# liste des communes de plus de X habitants d'un département donné\n",
    "\n",
    "# Code du département et nombre minimum d'habitants\n",
    "id_departement = \"24\"\n",
    "min_population = 10_000\n",
    "\n",
    "request = f\"\"\"\n",
    "SELECT c.id_commune, c.nom_commune, sp.valeur AS population\n",
    "FROM commune c\n",
    "JOIN statistiques_population sp ON c.id_commune = sp.codgeo\n",
    "WHERE c.id_departement = '{id_departement}'\n",
    "  AND sp.annee = 2020\n",
    "  AND sp.type_statistique = 'Population'\n",
    "  AND sp.valeur > {min_population};\n",
    "\"\"\"\n",
    "\n",
    "cur.execute(request)\n",
    "rows = cur.fetchall()\n",
    "df = pd.DataFrame(rows, columns=['id_commune', 'nom_commune', 'population'])\n",
    "print(df)\n"
   ]
  },
  {
   "cell_type": "markdown",
   "metadata": {},
   "source": [
    "### La région la plus peuplé"
   ]
  },
  {
   "cell_type": "code",
   "execution_count": null,
   "metadata": {},
   "outputs": [],
   "source": [
    "request = \"\"\"\n",
    "SELECT r.id_region, r.nom_region, SUM(sp.valeur) AS population_totale\n",
    "FROM region r\n",
    "JOIN departement d ON r.id_region = d.id_region\n",
    "JOIN commune c ON d.id_departement = c.id_departement\n",
    "JOIN statistiques_population sp ON c.id_commune = sp.codgeo\n",
    "WHERE sp.annee = 2020 AND sp.type_statistique = 'Population'\n",
    "GROUP BY r.id_region, r.nom_region\n",
    "ORDER BY population_totale DESC\n",
    "LIMIT 1;\n",
    "\"\"\"\n",
    "\n",
    "cur.execute(request)\n",
    "rows = cur.fetchall()\n",
    "df = pd.DataFrame(rows, columns=['id_region', 'nom_region', 'population_totale'])\n",
    "print(df)\n"
   ]
  },
  {
   "cell_type": "markdown",
   "metadata": {},
   "source": [
    "## Views"
   ]
  },
  {
   "cell_type": "markdown",
   "metadata": {},
   "source": [
    "Créer deux vues (cf commande CREATE OR REPLACE VIEW) qui donnent la population des départements et des régions pour les différentes années ainsi que les indicateurs existants."
   ]
  },
  {
   "cell_type": "markdown",
   "metadata": {},
   "source": [
    "### Vue 1 : Population des départements"
   ]
  },
  {
   "cell_type": "code",
   "execution_count": null,
   "metadata": {},
   "outputs": [],
   "source": [
    "vue = \"\"\"\n",
    "CREATE OR REPLACE VIEW vue_population_departement AS\n",
    "SELECT d.id_departement, d.nom_departement, sp.annee, sp.type_statistique, SUM(sp.valeur) AS population_totale\n",
    "FROM departement d\n",
    "JOIN commune c ON d.id_departement = c.id_departement\n",
    "JOIN statistiques_population sp ON c.id_commune = sp.codgeo\n",
    "WHERE sp.type_statistique = 'Population'\n",
    "GROUP BY d.id_departement, d.nom_departement, sp.annee, sp.type_statistique;\n",
    "\"\"\"\n",
    "\n",
    "cur.execute(vue)\n",
    "\n",
    "request = \"\"\"\n",
    "SELECT *\n",
    "FROM vue_population_departement\n",
    "WHERE annee = 2020\n",
    "ORDER BY population_totale DESC;\n",
    "\"\"\"\n",
    "cur.execute(request)\n",
    "conn.commit()\n",
    "rows = cur.fetchall()\n",
    "df = pd.DataFrame(rows, columns=['id_departement', 'nom_departement', 'annee', 'type_statistique', 'population_totale'])\n",
    "df\n"
   ]
  },
  {
   "cell_type": "markdown",
   "metadata": {},
   "source": [
    "### Vue 2 : Population des régions"
   ]
  },
  {
   "cell_type": "code",
   "execution_count": null,
   "metadata": {},
   "outputs": [],
   "source": [
    "vue_region = \"\"\"\n",
    "CREATE OR REPLACE VIEW vue_population_region AS\n",
    "SELECT r.id_region, r.nom_region, sp.annee, sp.type_statistique, SUM(sp.valeur) AS population_totale\n",
    "FROM region r\n",
    "JOIN departement d ON r.id_region = d.id_region\n",
    "JOIN commune c ON d.id_departement = c.id_departement\n",
    "JOIN statistiques_population sp ON c.id_commune = sp.codgeo\n",
    "WHERE sp.type_statistique = 'Population'\n",
    "GROUP BY r.id_region, r.nom_region, sp.annee, sp.type_statistique;\n",
    "\"\"\"\n",
    "\n",
    "try:\n",
    "    cur.execute(vue_region)\n",
    "    conn.commit()  \n",
    "    \n",
    "    request = \"\"\"\n",
    "    SELECT *\n",
    "    FROM vue_population_region\n",
    "    WHERE annee = 2020\n",
    "    ORDER BY population_totale DESC;\n",
    "    \"\"\"\n",
    "    \n",
    "    cur.execute(request)\n",
    "    rows = cur.fetchall()\n",
    "    df = pd.DataFrame(rows, columns=['id_region', 'nom_region', 'annee', 'type_statistique', 'population_totale'])\n",
    "    print(df)\n",
    "    \n",
    "except Exception as e:\n",
    "    conn.rollback() \n",
    "    print(f\"Error: {e}\")\n"
   ]
  },
  {
   "cell_type": "code",
   "execution_count": null,
   "metadata": {},
   "outputs": [],
   "source": [
    "conn.commit()"
   ]
  },
  {
   "cell_type": "markdown",
   "metadata": {},
   "source": [
    "## Procédure stockée"
   ]
  },
  {
   "cell_type": "code",
   "execution_count": null,
   "metadata": {},
   "outputs": [],
   "source": [
    "alter_departements = \"ALTER TABLE departement ADD COLUMN population_totale INT;\"\n",
    "alter_regions = \"ALTER TABLE region ADD COLUMN population_totale INT;\"\n",
    "\n",
    "cur.execute(alter_departements)\n",
    "cur.execute(alter_regions)\n",
    "conn.commit()\n",
    "\n",
    "# Créer la procédure stockée\n",
    "procedure_calcul = \"\"\"\n",
    "CREATE OR REPLACE PROCEDURE calculer_population()\n",
    "LANGUAGE plpgsql\n",
    "AS $$\n",
    "BEGIN\n",
    "    -- Calculer la population des départements\n",
    "    UPDATE departement d\n",
    "    SET population_totale = sub.population\n",
    "    FROM (\n",
    "        SELECT c.id_departement, SUM(sp.valeur) AS population\n",
    "        FROM commune c\n",
    "        JOIN statistiques_population sp ON c.id_commune = sp.codgeo\n",
    "        WHERE sp.type_statistique = 'Population' AND sp.annee = 2020\n",
    "        GROUP BY c.id_departement\n",
    "    ) AS sub\n",
    "    WHERE d.id_departement = sub.id_departement;\n",
    "\n",
    "    -- Calculer la population des régions\n",
    "    UPDATE region r\n",
    "    SET population_totale = sub.population\n",
    "    FROM (\n",
    "        SELECT d.id_region, SUM(d.population_totale) AS population\n",
    "        FROM departement d\n",
    "        GROUP BY d.id_region\n",
    "    ) AS sub\n",
    "    WHERE r.id_region = sub.id_region;\n",
    "END;\n",
    "$$;\n",
    "\"\"\"\n",
    "\n",
    "cur.execute(procedure_calcul)\n",
    "conn.commit()\n",
    "\n",
    "# Exécuter la procédure stockée\n",
    "cur.execute(\"CALL calculer_population();\")\n",
    "conn.commit()\n",
    "\n",
    "# Fermeture de la connexion\n",
    "cur.close()\n",
    "conn.close()"
   ]
  },
  {
   "cell_type": "code",
   "execution_count": null,
   "metadata": {},
   "outputs": [],
   "source": [
    "# On verifie que les colonnes ont bien été ajoutées et que les populations ont bien été calculées\n",
    "conn = connect()\n",
    "cur = conn.cursor(cursor_factory=psycopg2.extras.DictCursor)\n",
    "\n",
    "request = \"\"\"\n",
    "SELECT * FROM departement;\n",
    "\"\"\"\n",
    "cur.execute(request)\n",
    "rows = cur.fetchall()\n",
    "df = pd.DataFrame(rows, columns=['id_departement', 'nom_departement', 'id_region', 'population_totale'])\n",
    "print(df)"
   ]
  },
  {
   "cell_type": "markdown",
   "metadata": {},
   "source": [
    "## Triggers"
   ]
  },
  {
   "cell_type": "code",
   "execution_count": null,
   "metadata": {},
   "outputs": [],
   "source": [
    "try:\n",
    "    # Création du trigger pour empêcher les modifications dans la table region\n",
    "    bloque_region = \"\"\"\n",
    "    CREATE OR REPLACE FUNCTION bloque_modifications_region()\n",
    "    RETURNS trigger AS $$\n",
    "    BEGIN\n",
    "        RAISE EXCEPTION 'Modification de la table region non autorisée';\n",
    "        RETURN NULL;\n",
    "    END;\n",
    "    $$ LANGUAGE plpgsql;\n",
    "\n",
    "    CREATE TRIGGER tr_bloquer_modifications_region\n",
    "    BEFORE INSERT OR UPDATE OR DELETE ON region\n",
    "    FOR EACH ROW EXECUTE FUNCTION bloque_modifications_region();\n",
    "    \"\"\"\n",
    "    \n",
    "    # Création du trigger pour empêcher les modifications dans la table departement\n",
    "    bloque_departement = \"\"\"\n",
    "    CREATE OR REPLACE FUNCTION bloque_modifications_departement()\n",
    "    RETURNS trigger AS $$\n",
    "    BEGIN\n",
    "        RAISE EXCEPTION 'Modification de la table departement non autorisée';\n",
    "        RETURN NULL;\n",
    "    END;\n",
    "    $$ LANGUAGE plpgsql;\n",
    "\n",
    "    CREATE TRIGGER tr_bloquer_modifications_departement\n",
    "    BEFORE INSERT OR UPDATE OR DELETE ON departement\n",
    "    FOR EACH ROW EXECUTE FUNCTION bloque_modifications_departement();\n",
    "    \"\"\"\n",
    "    \n",
    "    # Création de la procédure pour mettre à jour les populations\n",
    "    procedure_calcul = \"\"\"\n",
    "    CREATE OR REPLACE PROCEDURE calculer_population()\n",
    "    LANGUAGE plpgsql\n",
    "    AS $$\n",
    "    BEGIN\n",
    "        -- Calculer la population des départements\n",
    "        UPDATE departement d\n",
    "        SET population_totale = sub.population\n",
    "        FROM (\n",
    "            SELECT c.id_departement, SUM(sp.valeur) AS population\n",
    "            FROM commune c\n",
    "            JOIN statistiques_population sp ON c.id_commune = sp.codgeo\n",
    "            WHERE sp.type_statistique = 'Population' AND sp.annee = 2020\n",
    "            GROUP BY c.id_departement\n",
    "        ) AS sub\n",
    "        WHERE d.id_departement = sub.id_departement;\n",
    "\n",
    "        -- Calculer la population des régions\n",
    "        UPDATE region r\n",
    "        SET population_totale = sub.population\n",
    "        FROM (\n",
    "            SELECT d.id_region, SUM(d.population_totale) AS population\n",
    "            FROM departement d\n",
    "            GROUP BY d.id_region\n",
    "        ) AS sub\n",
    "        WHERE r.id_region = sub.id_region;\n",
    "    END;\n",
    "    $$;\n",
    "    \"\"\"\n",
    "    \n",
    "    # Création du trigger pour mettre à jour les populations\n",
    "    maj_population = \"\"\"\n",
    "    CREATE OR REPLACE FUNCTION maj_population()\n",
    "    RETURNS trigger AS $$\n",
    "    BEGIN\n",
    "        PERFORM calculer_population();\n",
    "        RETURN NEW;\n",
    "    END;\n",
    "    $$ LANGUAGE plpgsql;\n",
    "\n",
    "    CREATE TRIGGER tr_maj_population\n",
    "    AFTER INSERT OR UPDATE ON statistiques_population\n",
    "    FOR EACH ROW EXECUTE FUNCTION maj_population();\n",
    "    \"\"\"\n",
    "\n",
    "    # Exécuter les commandes\n",
    "    cur.execute(bloque_region)\n",
    "    cur.execute(bloque_departement)\n",
    "    cur.execute(procedure_calcul)\n",
    "    cur.execute(maj_population)\n",
    "    \n",
    "    # Valider les changements\n",
    "    conn.commit()\n",
    "\n",
    "except Exception as e:\n",
    "    # Annuler la transaction en cas d'erreur\n",
    "    conn.rollback()\n",
    "    print(f\"Error: {e}\")\n",
    "\n",
    "finally:\n",
    "    # Fermer la connexion\n",
    "    cur.close()\n",
    "    conn.close()\n"
   ]
  },
  {
   "cell_type": "markdown",
   "metadata": {},
   "source": [
    "## Triggers suite"
   ]
  },
  {
   "cell_type": "code",
   "execution_count": null,
   "metadata": {},
   "outputs": [],
   "source": [
    "conn = connect()\n",
    "cur = conn.cursor(cursor_factory=psycopg2.extras.DictCursor)\n",
    "\n",
    "try:\n",
    "    # Création de la procédure pour mettre à jour la population d'un département\n",
    "    procedure_update_departement = \"\"\"\n",
    "    CREATE OR REPLACE PROCEDURE update_population_departement()\n",
    "    LANGUAGE plpgsql\n",
    "    AS $$\n",
    "    BEGIN\n",
    "        UPDATE departement d\n",
    "        SET population_totale = sub.population\n",
    "        FROM (\n",
    "            SELECT c.id_departement, SUM(sp.valeur) AS population\n",
    "            FROM commune c\n",
    "            JOIN statistiques_population sp ON c.id_commune = sp.codgeo\n",
    "            WHERE sp.type_statistique = 'Population' AND sp.annee IN (2020, 2021, 2022, 2023)\n",
    "            GROUP BY c.id_departement\n",
    "            HAVING COUNT(c.id_commune) = (\n",
    "                SELECT COUNT(*)\n",
    "                FROM commune\n",
    "                WHERE id_departement = c.id_departement\n",
    "            )\n",
    "        ) AS sub\n",
    "        WHERE d.id_departement = sub.id_departement;\n",
    "    END;\n",
    "    $$;\n",
    "    \"\"\"\n",
    "\n",
    "    # Création de la procédure pour mettre à jour la population d'une région\n",
    "    procedure_update_region = \"\"\"\n",
    "    CREATE OR REPLACE PROCEDURE update_population_region()\n",
    "    LANGUAGE plpgsql\n",
    "    AS $$\n",
    "    BEGIN\n",
    "        UPDATE region r\n",
    "        SET population_totale = sub.population\n",
    "        FROM (\n",
    "            SELECT d.id_region, SUM(d.population_totale) AS population\n",
    "            FROM departement d\n",
    "            GROUP BY d.id_region\n",
    "            HAVING COUNT(d.id_departement) = (\n",
    "                SELECT COUNT(*)\n",
    "                FROM departement\n",
    "                WHERE id_region = d.id_region\n",
    "            )\n",
    "        ) AS sub\n",
    "        WHERE r.id_region = sub.id_region;\n",
    "    END;\n",
    "    $$;\n",
    "    \"\"\"\n",
    "\n",
    "    # Création de la procédure qui met à jour les populations des départements et des régions\n",
    "    procedure_update_all = \"\"\"\n",
    "    CREATE OR REPLACE PROCEDURE update_population_all()\n",
    "    LANGUAGE plpgsql\n",
    "    AS $$\n",
    "    BEGIN\n",
    "        PERFORM update_population_departement();\n",
    "        PERFORM update_population_region();\n",
    "    END;\n",
    "    $$;\n",
    "    \"\"\"\n",
    "\n",
    "    # Création du trigger pour mettre à jour les populations\n",
    "    trigger_update_population = \"\"\"\n",
    "    CREATE OR REPLACE FUNCTION trigger_population_update()\n",
    "    RETURNS trigger AS $$\n",
    "    BEGIN\n",
    "        PERFORM update_population_all();\n",
    "        RETURN NEW;\n",
    "    END;\n",
    "    $$ LANGUAGE plpgsql;\n",
    "\n",
    "    CREATE TRIGGER tr_update_population\n",
    "    AFTER INSERT OR UPDATE ON statistiques_population\n",
    "    FOR EACH ROW EXECUTE FUNCTION trigger_population_update();\n",
    "    \"\"\"\n",
    "\n",
    "    # Exécution des commandes\n",
    "    cur.execute(procedure_update_departement)\n",
    "    cur.execute(procedure_update_region)\n",
    "    cur.execute(procedure_update_all)\n",
    "    cur.execute(trigger_update_population)\n",
    "\n",
    "    # Valider les changements\n",
    "    conn.commit()\n",
    "\n",
    "except Exception as e:\n",
    "    # Annuler la transaction en cas d'erreur\n",
    "    conn.rollback()\n",
    "    print(f\"Error: {e}\")\n",
    "\n",
    "# finally:\n",
    "#     cur.close()\n",
    "#     conn.close()s\n"
   ]
  },
  {
   "cell_type": "markdown",
   "metadata": {},
   "source": [
    "## Plan d'exécution (EXPLAIN)\n",
    "### La région la plus peuplé"
   ]
  },
  {
   "cell_type": "code",
   "execution_count": null,
   "metadata": {},
   "outputs": [],
   "source": [
    "request = \"\"\"\n",
    "EXPLAIN ANALYSE SELECT r.id_region, r.nom_region, SUM(sp.valeur) AS population_totale\n",
    "FROM region r\n",
    "JOIN departement d ON r.id_region = d.id_region\n",
    "JOIN commune c ON d.id_departement = c.id_departement\n",
    "JOIN statistiques_population sp ON c.id_commune = sp.codgeo\n",
    "WHERE sp.annee = 2020 AND sp.type_statistique = 'Population'\n",
    "GROUP BY r.id_region, r.nom_region\n",
    "ORDER BY population_totale DESC\n",
    "LIMIT 1;\n",
    "\"\"\"\n",
    "\n",
    "cur.execute(request)\n",
    "rows = cur.fetchall()\n",
    "df = pd.DataFrame(rows)\n",
    "print(df[0][0])"
   ]
  },
  {
   "cell_type": "markdown",
   "metadata": {},
   "source": [
    "## Plan d'exécution et index"
   ]
  },
  {
   "cell_type": "code",
   "execution_count": null,
   "metadata": {},
   "outputs": [],
   "source": [
    "request = \"\"\"\n",
    "CREATE INDEX pop_idx ON statistiques_population (valeur) WHERE type_statistique = 'Population';\n",
    "EXPLAIN ANALYSE SELECT r.id_region, r.nom_region, SUM(sp.valeur) AS population_totale\n",
    "FROM region r\n",
    "JOIN departement d ON r.id_region = d.id_region\n",
    "JOIN commune c ON d.id_departement = c.id_departement\n",
    "JOIN statistiques_population sp ON c.id_commune = sp.codgeo\n",
    "WHERE sp.annee = 2020 AND sp.type_statistique = 'Population'\n",
    "GROUP BY r.id_region, r.nom_region\n",
    "ORDER BY population_totale DESC\n",
    "LIMIT 1;\n",
    "\"\"\"\n",
    "\n",
    "cur.execute(request)\n",
    "rows = cur.fetchall()\n",
    "df = pd.DataFrame(rows)\n",
    "print(df[0][0])"
   ]
  },
  {
   "cell_type": "markdown",
   "metadata": {},
   "source": [
    "## Pour aller plus loin : transactions"
   ]
  },
  {
   "cell_type": "code",
   "execution_count": null,
   "metadata": {},
   "outputs": [],
   "source": []
  }
 ],
 "metadata": {
  "kernelspec": {
   "display_name": "Python 3",
   "language": "python",
   "name": "python3"
  },
  "language_info": {
   "codemirror_mode": {
    "name": "ipython",
    "version": 3
   },
   "file_extension": ".py",
   "mimetype": "text/x-python",
   "name": "python",
   "nbconvert_exporter": "python",
   "pygments_lexer": "ipython3",
   "version": "3.11.5"
  }
 },
 "nbformat": 4,
 "nbformat_minor": 2
}
