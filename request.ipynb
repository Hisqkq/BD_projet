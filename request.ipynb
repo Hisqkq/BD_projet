{
 "cells": [
  {
   "cell_type": "markdown",
   "metadata": {},
   "source": [
    "## Request\n",
    "\n",
    "Dans un programme réalisé dans le langage de votre choix (de préférence C, C++, Java ou Python), réalisez au moins trois requêtes et faites afficher les résultats de façon lisible et compréhensible pour un non informaticien : liste des départements d'une région donnée, liste des communes de plus de X habitants d'un département donné, la région la plus/la moins peuplée, les communes les plus/les moins peuplées d'un département, etc."
   ]
  },
  {
   "cell_type": "code",
   "execution_count": 3,
   "metadata": {},
   "outputs": [],
   "source": [
    "import psycopg2\n",
    "import psycopg2.extras\n",
    "import pandas as pd\n",
    "from db import connect\n",
    "\n",
    "conn = connect()\n",
    "cur = conn.cursor(cursor_factory=psycopg2.extras.DictCursor)"
   ]
  },
  {
   "cell_type": "markdown",
   "metadata": {},
   "source": [
    "### Liste des départements d'une Region"
   ]
  },
  {
   "cell_type": "code",
   "execution_count": 8,
   "metadata": {},
   "outputs": [
    {
     "name": "stdout",
     "output_type": "stream",
     "text": [
      "   id_departement       nom_departement\n",
      "0              16              Charente\n",
      "1              17     Charente-Maritime\n",
      "2              19               Corrèze\n",
      "3              23                Creuse\n",
      "4              24              Dordogne\n",
      "5              33               Gironde\n",
      "6              40                Landes\n",
      "7              47        Lot-et-Garonne\n",
      "8              64  Pyrénées-Atlantiques\n",
      "9              79           Deux-Sèvres\n",
      "10             86                Vienne\n",
      "11             87          Haute-Vienne\n"
     ]
    }
   ],
   "source": [
    "import pandas as pd\n",
    "\n",
    "nom_region = \"Nouvelle-Aquitaine\"\n",
    "\n",
    "request = f\"\"\"\n",
    "SELECT d.id_departement, d.nom_departement\n",
    "FROM departement d\n",
    "JOIN region r ON d.id_region = r.id_region\n",
    "WHERE r.nom_region = '{nom_region}';\n",
    "\"\"\"\n",
    "\n",
    "cur.execute(request)\n",
    "rows = cur.fetchall()\n",
    "\n",
    "df = pd.DataFrame(rows, columns=['id_departement', 'nom_departement'])\n",
    "print(df)\n"
   ]
  },
  {
   "cell_type": "markdown",
   "metadata": {},
   "source": [
    "### Liste des communes de plus de X habitants d'un département donné"
   ]
  },
  {
   "cell_type": "code",
   "execution_count": 9,
   "metadata": {},
   "outputs": [
    {
     "ename": "NameError",
     "evalue": "name 'X' is not defined",
     "output_type": "error",
     "traceback": [
      "\u001b[1;31m---------------------------------------------------------------------------\u001b[0m",
      "\u001b[1;31mNameError\u001b[0m                                 Traceback (most recent call last)",
      "Cell \u001b[1;32mIn[9], line 7\u001b[0m\n\u001b[0;32m      5\u001b[0m \u001b[38;5;66;03m# Code du département et nombre minimum d'habitants\u001b[39;00m\n\u001b[0;32m      6\u001b[0m id_departement \u001b[38;5;241m=\u001b[39m \u001b[38;5;124m\"\u001b[39m\u001b[38;5;124mID_DEP\u001b[39m\u001b[38;5;124m\"\u001b[39m\n\u001b[1;32m----> 7\u001b[0m min_population \u001b[38;5;241m=\u001b[39m \u001b[43mX\u001b[49m\n\u001b[0;32m      9\u001b[0m \u001b[38;5;66;03m# Requête pour obtenir la liste des communes avec plus de X habitants\u001b[39;00m\n\u001b[0;32m     10\u001b[0m request \u001b[38;5;241m=\u001b[39m \u001b[38;5;124mf\u001b[39m\u001b[38;5;124m\"\"\"\u001b[39m\n\u001b[0;32m     11\u001b[0m \u001b[38;5;124mSELECT c.id_commune, c.nom_commune, sp.valeur AS population\u001b[39m\n\u001b[0;32m     12\u001b[0m \u001b[38;5;124mFROM commune c\u001b[39m\n\u001b[1;32m   (...)\u001b[0m\n\u001b[0;32m     17\u001b[0m \u001b[38;5;124m  AND sp.valeur > \u001b[39m\u001b[38;5;132;01m{\u001b[39;00mmin_population\u001b[38;5;132;01m}\u001b[39;00m\u001b[38;5;124m;\u001b[39m\n\u001b[0;32m     18\u001b[0m \u001b[38;5;124m\"\"\"\u001b[39m\n",
      "\u001b[1;31mNameError\u001b[0m: name 'X' is not defined"
     ]
    }
   ],
   "source": [
    "# liste des communes de plus de X habitants d'un département donné\n",
    "\n",
    "import pandas as pd\n",
    "\n",
    "# Code du département et nombre minimum d'habitants\n",
    "id_departement = \"33\"\n",
    "min_population = 10_000\n",
    "\n",
    "# Requête pour obtenir la liste des communes avec plus de X habitants\n",
    "request = f\"\"\"\n",
    "SELECT c.id_commune, c.nom_commune, sp.valeur AS population\n",
    "FROM commune c\n",
    "JOIN statistiques_population sp ON c.id_commune = sp.codgeo\n",
    "WHERE c.id_departement = '{id_departement}'\n",
    "  AND sp.annee = 2020\n",
    "  AND sp.type_statistique = 'Population'\n",
    "  AND sp.valeur > {min_population};\n",
    "\"\"\"\n",
    "\n",
    "# Exécution de la requête\n",
    "cur.execute(request)\n",
    "rows = cur.fetchall()\n",
    "\n",
    "# Création du DataFrame avec les noms de colonnes\n",
    "df = pd.DataFrame(rows, columns=['id_commune', 'nom_commune', 'population'])\n",
    "print(df)\n"
   ]
  }
 ],
 "metadata": {
  "kernelspec": {
   "display_name": "Python 3",
   "language": "python",
   "name": "python3"
  },
  "language_info": {
   "codemirror_mode": {
    "name": "ipython",
    "version": 3
   },
   "file_extension": ".py",
   "mimetype": "text/x-python",
   "name": "python",
   "nbconvert_exporter": "python",
   "pygments_lexer": "ipython3",
   "version": "3.11.3"
  }
 },
 "nbformat": 4,
 "nbformat_minor": 2
}
